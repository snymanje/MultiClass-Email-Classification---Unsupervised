{
  "nbformat": 4,
  "nbformat_minor": 0,
  "metadata": {
    "kernelspec": {
      "display_name": "Python 3",
      "language": "python",
      "name": "python3"
    },
    "language_info": {
      "codemirror_mode": {
        "name": "ipython",
        "version": 3
      },
      "file_extension": ".py",
      "mimetype": "text/x-python",
      "name": "python",
      "nbconvert_exporter": "python",
      "pygments_lexer": "ipython3",
      "version": "3.8.2"
    },
    "colab": {
      "name": "Unsupervised Text Clustering with K-Means.ipynb",
      "provenance": [],
      "collapsed_sections": [],
      "include_colab_link": true
    }
  },
  "cells": [
    {
      "cell_type": "markdown",
      "metadata": {
        "id": "view-in-github",
        "colab_type": "text"
      },
      "source": [
        "<a href=\"https://colab.research.google.com/github/snymanje/MultiClass-Text-Classification-Unsupervised/blob/master/Unsupervised_Text_Clustering_with_K_Means.ipynb\" target=\"_parent\"><img src=\"https://colab.research.google.com/assets/colab-badge.svg\" alt=\"Open In Colab\"/></a>"
      ]
    },
    {
      "cell_type": "code",
      "metadata": {
        "id": "Ksuc-g9Ew3A1",
        "colab_type": "code",
        "outputId": "d9821b15-ced6-4f58-a372-32ec626ad69a",
        "colab": {
          "base_uri": "https://localhost:8080/",
          "height": 34
        }
      },
      "source": [
        "from google.colab import drive\n",
        "drive.mount('/content/drive')"
      ],
      "execution_count": 179,
      "outputs": [
        {
          "output_type": "stream",
          "text": [
            "Drive already mounted at /content/drive; to attempt to forcibly remount, call drive.mount(\"/content/drive\", force_remount=True).\n"
          ],
          "name": "stdout"
        }
      ]
    },
    {
      "cell_type": "markdown",
      "metadata": {
        "id": "C15XACJ_IuIo",
        "colab_type": "text"
      },
      "source": [
        "## We will be using K-Means to group consumer complaints.\n",
        "\n",
        "So what exactly is K-means? Well, it is an unsupervised learning algorithm (meaning there are no target labels) that allows you to identify similar groups or clusters of data points within your data. \n",
        "\n",
        "In this example we do have the labels but we will only us it to see how we the model performed."
      ]
    },
    {
      "cell_type": "markdown",
      "metadata": {
        "id": "tdHKXxvnIuIx",
        "colab_type": "text"
      },
      "source": [
        "## Import and munipulate the data "
      ]
    },
    {
      "cell_type": "code",
      "metadata": {
        "id": "z7ILM6xcIuIy",
        "colab_type": "code",
        "outputId": "b9e9a765-e07e-4ae3-8f95-3fd4b05e6f78",
        "colab": {
          "base_uri": "https://localhost:8080/",
          "height": 359
        }
      },
      "source": [
        "import pandas as pd\n",
        "import numpy as np\n",
        "\n",
        "# Import the Consumer Complaints dataset \n",
        "dataset = pd.read_csv('drive/My Drive/Colab Notebooks/Consumer_Complaints.csv')\n",
        "\n",
        "# Only select the Product and Consumer complaint columns\n",
        "col = ['Product', 'Consumer Complaint']\n",
        "dataset= dataset[col]\n",
        "\n",
        "# Drop rows with missing labels\n",
        "dataset.dropna(subset=[\"Consumer Complaint\"], inplace=True)\n",
        "\n",
        "# Rename the Consumer Complaint column to ConsumerComplaint\n",
        "dataset.columns=['Product', 'ConsumerComplaint']\n",
        "\n",
        "# Select only only these products\n",
        "dataset=dataset[dataset['Product'].isin(['Credit reporting', 'Debt collection', 'Mortgage', 'Credit card','Student loan','Bank account or service','Consumer Loan'])]\n",
        "\n",
        "# Shuffel the dataset to make sure we get an equal distribution of the data before splitting into train and test sets\n",
        "dataset = dataset.sample(frac=1)\n",
        "dataset.head(10)"
      ],
      "execution_count": 180,
      "outputs": [
        {
          "output_type": "execute_result",
          "data": {
            "text/html": [
              "<div>\n",
              "<style scoped>\n",
              "    .dataframe tbody tr th:only-of-type {\n",
              "        vertical-align: middle;\n",
              "    }\n",
              "\n",
              "    .dataframe tbody tr th {\n",
              "        vertical-align: top;\n",
              "    }\n",
              "\n",
              "    .dataframe thead th {\n",
              "        text-align: right;\n",
              "    }\n",
              "</style>\n",
              "<table border=\"1\" class=\"dataframe\">\n",
              "  <thead>\n",
              "    <tr style=\"text-align: right;\">\n",
              "      <th></th>\n",
              "      <th>Product</th>\n",
              "      <th>ConsumerComplaint</th>\n",
              "    </tr>\n",
              "  </thead>\n",
              "  <tbody>\n",
              "    <tr>\n",
              "      <th>8971</th>\n",
              "      <td>Student loan</td>\n",
              "      <td>I have XXXX loans with Navient, XXXX stafford ...</td>\n",
              "    </tr>\n",
              "    <tr>\n",
              "      <th>1858</th>\n",
              "      <td>Credit reporting</td>\n",
              "      <td>I disputed information on my credit report to ...</td>\n",
              "    </tr>\n",
              "    <tr>\n",
              "      <th>8511</th>\n",
              "      <td>Mortgage</td>\n",
              "      <td>I received a letter from Ocwen stating that ho...</td>\n",
              "    </tr>\n",
              "    <tr>\n",
              "      <th>9331</th>\n",
              "      <td>Student loan</td>\n",
              "      <td>I always make my monthly payment online from n...</td>\n",
              "    </tr>\n",
              "    <tr>\n",
              "      <th>763</th>\n",
              "      <td>Credit reporting</td>\n",
              "      <td>Hello, I have been a victim of Identity theft ...</td>\n",
              "    </tr>\n",
              "    <tr>\n",
              "      <th>9945</th>\n",
              "      <td>Debt collection</td>\n",
              "      <td>For 1-1/2 yrs ( est. ) Dyck O'Neal Inc.- a deb...</td>\n",
              "    </tr>\n",
              "    <tr>\n",
              "      <th>2085</th>\n",
              "      <td>Credit reporting</td>\n",
              "      <td>After a divorce, I was granted Innocent Spouse...</td>\n",
              "    </tr>\n",
              "    <tr>\n",
              "      <th>7699</th>\n",
              "      <td>Debt collection</td>\n",
              "      <td>I 've sent multiple letters to this agency abo...</td>\n",
              "    </tr>\n",
              "    <tr>\n",
              "      <th>4272</th>\n",
              "      <td>Debt collection</td>\n",
              "      <td>I went with another cell carrier in XXXX, 2016...</td>\n",
              "    </tr>\n",
              "    <tr>\n",
              "      <th>7647</th>\n",
              "      <td>Credit reporting</td>\n",
              "      <td>equifax is report a acct that on XX/XX/2016, o...</td>\n",
              "    </tr>\n",
              "  </tbody>\n",
              "</table>\n",
              "</div>"
            ],
            "text/plain": [
              "               Product                                  ConsumerComplaint\n",
              "8971      Student loan  I have XXXX loans with Navient, XXXX stafford ...\n",
              "1858  Credit reporting  I disputed information on my credit report to ...\n",
              "8511          Mortgage  I received a letter from Ocwen stating that ho...\n",
              "9331      Student loan  I always make my monthly payment online from n...\n",
              "763   Credit reporting  Hello, I have been a victim of Identity theft ...\n",
              "9945   Debt collection  For 1-1/2 yrs ( est. ) Dyck O'Neal Inc.- a deb...\n",
              "2085  Credit reporting  After a divorce, I was granted Innocent Spouse...\n",
              "7699   Debt collection  I 've sent multiple letters to this agency abo...\n",
              "4272   Debt collection  I went with another cell carrier in XXXX, 2016...\n",
              "7647  Credit reporting  equifax is report a acct that on XX/XX/2016, o..."
            ]
          },
          "metadata": {
            "tags": []
          },
          "execution_count": 180
        }
      ]
    },
    {
      "cell_type": "markdown",
      "metadata": {
        "id": "xOAJfWvIIuI6",
        "colab_type": "text"
      },
      "source": [
        "## Plot the data"
      ]
    },
    {
      "cell_type": "code",
      "metadata": {
        "id": "SReB4ctAIuI7",
        "colab_type": "code",
        "outputId": "33493839-a7bf-4072-8435-cb164ebb3e23",
        "colab": {
          "base_uri": "https://localhost:8080/",
          "height": 441
        }
      },
      "source": [
        "import seaborn as sns\n",
        "import matplotlib.pyplot as plt\n",
        "\n",
        "sns.set_style('whitegrid')\n",
        "plt.figure(figsize=(8, 6))\n",
        "ax = sns.countplot(x='Product', data=dataset)\n",
        "ax.set_xticklabels(ax.get_xticklabels(), rotation=40, ha=\"right\")\n",
        "plt.tight_layout()"
      ],
      "execution_count": 181,
      "outputs": [
        {
          "output_type": "display_data",
          "data": {
            "image/png": "[encoded data removed]",
            "text/plain": [
              "<Figure size 576x432 with 1 Axes>"
            ]
          },
          "metadata": {
            "tags": []
          }
        }
      ]
    },
    {
      "cell_type": "markdown",
      "metadata": {
        "id": "4uBCXC5BIuJB",
        "colab_type": "text"
      },
      "source": [
        "## Clean the data\n",
        "\n",
        "We need to remove stop words, numbers, unnecessary white space or any other characters that can badly effect the outcome.\n",
        "\n",
        "And lastly we will stem the data"
      ]
    },
    {
      "cell_type": "code",
      "metadata": {
        "id": "KIvIcNnPzwZh",
        "colab_type": "code",
        "colab": {
          "base_uri": "https://localhost:8080/",
          "height": 221
        },
        "outputId": "fbc01198-d289-4714-e330-f852895dc0aa"
      },
      "source": [
        "# What does the data look like now?\n",
        "dataset[\"ConsumerComplaint\"]"
      ],
      "execution_count": 182,
      "outputs": [
        {
          "output_type": "execute_result",
          "data": {
            "text/plain": [
              "8971    I have XXXX loans with Navient, XXXX stafford ...\n",
              "1858    I disputed information on my credit report to ...\n",
              "8511    I received a letter from Ocwen stating that ho...\n",
              "9331    I always make my monthly payment online from n...\n",
              "763     Hello, I have been a victim of Identity theft ...\n",
              "                              ...                        \n",
              "3622    Wron report about us, my wife and me. \\nHi, my...\n",
              "4901    DESIGNED RECEIVABLE SOLUTIONS has placed a der...\n",
              "8650    Virtually since this loan 's inception about s...\n",
              "8580    My mother passed away in 2013, leaving her hom...\n",
              "6733    My home has been stolen by Wells Fargo Bank N....\n",
              "Name: ConsumerComplaint, Length: 2029, dtype: object"
            ]
          },
          "metadata": {
            "tags": []
          },
          "execution_count": 182
        }
      ]
    },
    {
      "cell_type": "markdown",
      "metadata": {
        "id": "AcPyhphn0LNM",
        "colab_type": "text"
      },
      "source": [
        "From the above we can see that we need to convert everything to lowercase, and remove numbers and thinks like \\n\n",
        "\n",
        "Let's create a function to do most of this."
      ]
    },
    {
      "cell_type": "code",
      "metadata": {
        "id": "33OZUnaxoXYu",
        "colab_type": "code",
        "colab": {
          "base_uri": "https://localhost:8080/",
          "height": 85
        },
        "outputId": "fa3a6e26-eedc-4443-8dc2-763f986299f9"
      },
      "source": [
        "from nltk.stem import PorterStemmer\n",
        "stemmer = PorterStemmer()\n",
        "import re\n",
        "import nltk\n",
        "nltk.download('stopwords')\n",
        "nltk.download('punkt')\n",
        "from nltk.corpus import stopwords\n",
        "\n",
        "# Lets do some text cleanup\n",
        "REPLACE_BY_SPACE_RE = re.compile('[/(){}\\[\\]\\|@,;]')\n",
        "BAD_SYMBOLS_RE = re.compile('[^0-9a-z #+_]')\n",
        "REMOVE_NUM = re.compile('[\\d+]')\n",
        "STOPWORDS = set(stopwords.words('english'))\n",
        "\n",
        "def clean_text(text):\n",
        "    \"\"\"\n",
        "    text: a string\n",
        "    return: modified initial string\n",
        "    \"\"\"\n",
        "    # lowercase text\n",
        "    text = text.lower() \n",
        "\n",
        "    # replace REPLACE_BY_SPACE_RE symbols by space in text\n",
        "    text = REPLACE_BY_SPACE_RE.sub(' ', text) \n",
        "    \n",
        "    # Remove the XXXX values\n",
        "    text = text.replace('x', '') \n",
        "    \n",
        "    # Remove white space\n",
        "    text = REMOVE_NUM.sub('', text)\n",
        "\n",
        "    #  delete symbols which are in BAD_SYMBOLS_RE from text\n",
        "    text = BAD_SYMBOLS_RE.sub('', text) \n",
        "\n",
        "    # delete stopwords from text\n",
        "    text = ' '.join(word for word in text.split() if word not in STOPWORDS) \n",
        "    \n",
        "    # removes any words composed of less than 2 or more than 21 letters\n",
        "    text = ' '.join(word for word in text.split() if (len(word) >= 2 and len(word) <= 21))\n",
        "\n",
        "    # Stemming the words\n",
        "    text = ' '.join([stemmer.stem(word) for word in text.split()])\n",
        "    \n",
        "    return text"
      ],
      "execution_count": 183,
      "outputs": [
        {
          "output_type": "stream",
          "text": [
            "[nltk_data] Downloading package stopwords to /root/nltk_data...\n",
            "[nltk_data]   Package stopwords is already up-to-date!\n",
            "[nltk_data] Downloading package punkt to /root/nltk_data...\n",
            "[nltk_data]   Package punkt is already up-to-date!\n"
          ],
          "name": "stdout"
        }
      ]
    },
    {
      "cell_type": "code",
      "metadata": {
        "id": "6ivIsnF11vfv",
        "colab_type": "code",
        "colab": {
          "base_uri": "https://localhost:8080/",
          "height": 221
        },
        "outputId": "81d274a9-e172-44e5-c573-ab3619a97baf"
      },
      "source": [
        "dataset[\"ConsumerComplaint\"] = dataset[\"ConsumerComplaint\"].apply(clean_text)\n",
        "dataset[\"ConsumerComplaint\"]"
      ],
      "execution_count": 184,
      "outputs": [
        {
          "output_type": "execute_result",
          "data": {
            "text/plain": [
              "8971    loan navient stafford privat stafford loan wen...\n",
              "1858    disput inform credit report credit bureau also...\n",
              "8511    receiv letter ocwen state home equiti line mat...\n",
              "9331    alway make monthli payment onlin navientcom tr...\n",
              "763     hello victim ident theft multipl occas sinc re...\n",
              "                              ...                        \n",
              "3622    wron report us wife hi name wife wife chang ca...\n",
              "4901    design receiv solut place derogatori account c...\n",
              "8650    virtual sinc loan incept si month ago lender l...\n",
              "8580    mother pass away leav home famili eecutor esta...\n",
              "6733    home stolen well fargo bank na fraudul use law...\n",
              "Name: ConsumerComplaint, Length: 2029, dtype: object"
            ]
          },
          "metadata": {
            "tags": []
          },
          "execution_count": 184
        }
      ]
    },
    {
      "cell_type": "markdown",
      "metadata": {
        "id": "830JkTGY0yEY",
        "colab_type": "text"
      },
      "source": [
        "This looks much better!"
      ]
    },
    {
      "cell_type": "markdown",
      "metadata": {
        "id": "Ih7e0iXRkih1",
        "colab_type": "text"
      },
      "source": [
        "## Run TF IDF Vectorizer on the text data\n",
        "\n",
        "Convert text features to numeric\n",
        "The classifiers and learning algorithms can not directly process the text documents in their original form, as most of them expect numerical feature vectors with a fixed size rather than the raw text documents with variable length. Therefore, during the preprocessing step, the texts are converted to a more manageable representation.\n",
        "\n",
        "One common approach for extracting features from text is to use the bag of words model: a model where for each document, a complaint narrative in our case, the presence (and often the frequency) of words is taken into consideration, but the order in which they occur is ignored.\n",
        "\n",
        "Specifically, for each term in our dataset, we will calculate a measure called Term Frequency, Inverse Document Frequency, abbreviated to tf-idf. We will use sklearn.feature_extraction.text.TfidfVectorizer to calculate a tf-idf vector for each of consumer complaint narratives"
      ]
    },
    {
      "cell_type": "code",
      "metadata": {
        "id": "LY29CTHxIuJR",
        "colab_type": "code",
        "outputId": "f5c1b7fd-f422-448a-98bf-f6e57ddfb63b",
        "colab": {
          "base_uri": "https://localhost:8080/",
          "height": 270
        }
      },
      "source": [
        "# Run TF IDF Vectorizer on the text data\n",
        "\n",
        "# sublinear_df is set to True to use a logarithmic form for frequency\n",
        "# min_df is the minimum numbers of documents a word must be present in to be kept\n",
        "# norm is set to l2, to ensure all our feature vectors have a euclidian norm of 1\n",
        "# ngram_range is set to (1, 2) to indicate that we want to consider both unigrams and bigrams\n",
        "# stop_words is set to \"english\" to remove all common pronouns (\"a\", \"the\", ...) to reduce the number of noisy features\n",
        "vectorizer = TfidfVectorizer(sublinear_tf= True, min_df=10, norm='l2', ngram_range=(1, 2), stop_words='english')\n",
        "X_train_vc = vectorizer.fit_transform(dataset[\"ConsumerComplaint\"])\n",
        "\n",
        "pd.DataFrame(X_train_vc.toarray(), columns=vectorizer.get_feature_names()).head()"
      ],
      "execution_count": 185,
      "outputs": [
        {
          "output_type": "execute_result",
          "data": {
            "text/html": [
              "<div>\n",
              "<style scoped>\n",
              "    .dataframe tbody tr th:only-of-type {\n",
              "        vertical-align: middle;\n",
              "    }\n",
              "\n",
              "    .dataframe tbody tr th {\n",
              "        vertical-align: top;\n",
              "    }\n",
              "\n",
              "    .dataframe thead th {\n",
              "        text-align: right;\n",
              "    }\n",
              "</style>\n",
              "<table border=\"1\" class=\"dataframe\">\n",
              "  <thead>\n",
              "    <tr style=\"text-align: right;\">\n",
              "      <th></th>\n",
              "      <th>abil</th>\n",
              "      <th>abl</th>\n",
              "      <th>abl help</th>\n",
              "      <th>abl make</th>\n",
              "      <th>abl pay</th>\n",
              "      <th>abl reach</th>\n",
              "      <th>absolut</th>\n",
              "      <th>abus</th>\n",
              "      <th>accept</th>\n",
              "      <th>access</th>\n",
              "      <th>access account</th>\n",
              "      <th>accord</th>\n",
              "      <th>accordingli</th>\n",
              "      <th>account</th>\n",
              "      <th>account account</th>\n",
              "      <th>account advis</th>\n",
              "      <th>account ask</th>\n",
              "      <th>account balanc</th>\n",
              "      <th>account bank</th>\n",
              "      <th>account charg</th>\n",
              "      <th>account check</th>\n",
              "      <th>account close</th>\n",
              "      <th>account collect</th>\n",
              "      <th>account compani</th>\n",
              "      <th>account contact</th>\n",
              "      <th>account credit</th>\n",
              "      <th>account current</th>\n",
              "      <th>account day</th>\n",
              "      <th>account debt</th>\n",
              "      <th>account delet</th>\n",
              "      <th>account disput</th>\n",
              "      <th>account file</th>\n",
              "      <th>account howev</th>\n",
              "      <th>account includ</th>\n",
              "      <th>account inform</th>\n",
              "      <th>account late</th>\n",
              "      <th>account list</th>\n",
              "      <th>account manag</th>\n",
              "      <th>account neg</th>\n",
              "      <th>account nt</th>\n",
              "      <th>...</th>\n",
              "      <th>whatev</th>\n",
              "      <th>whatsoev</th>\n",
              "      <th>wife</th>\n",
              "      <th>wire</th>\n",
              "      <th>wish</th>\n",
              "      <th>wit</th>\n",
              "      <th>withdraw</th>\n",
              "      <th>withdrawn</th>\n",
              "      <th>withdrew</th>\n",
              "      <th>wo</th>\n",
              "      <th>wo nt</th>\n",
              "      <th>woman</th>\n",
              "      <th>wonder</th>\n",
              "      <th>word</th>\n",
              "      <th>work</th>\n",
              "      <th>work compani</th>\n",
              "      <th>work hard</th>\n",
              "      <th>worri</th>\n",
              "      <th>wors</th>\n",
              "      <th>worst</th>\n",
              "      <th>worth</th>\n",
              "      <th>write</th>\n",
              "      <th>written</th>\n",
              "      <th>wrong</th>\n",
              "      <th>wrong address</th>\n",
              "      <th>wrong inform</th>\n",
              "      <th>wrote</th>\n",
              "      <th>ye</th>\n",
              "      <th>year</th>\n",
              "      <th>year ago</th>\n",
              "      <th>year later</th>\n",
              "      <th>year loan</th>\n",
              "      <th>year old</th>\n",
              "      <th>year pay</th>\n",
              "      <th>year year</th>\n",
              "      <th>yesterday</th>\n",
              "      <th>york</th>\n",
              "      <th>young</th>\n",
              "      <th>yr</th>\n",
              "      <th>zero</th>\n",
              "    </tr>\n",
              "  </thead>\n",
              "  <tbody>\n",
              "    <tr>\n",
              "      <th>0</th>\n",
              "      <td>0.0</td>\n",
              "      <td>0.000000</td>\n",
              "      <td>0.0</td>\n",
              "      <td>0.000000</td>\n",
              "      <td>0.0</td>\n",
              "      <td>0.0</td>\n",
              "      <td>0.0</td>\n",
              "      <td>0.0</td>\n",
              "      <td>0.000000</td>\n",
              "      <td>0.000000</td>\n",
              "      <td>0.0</td>\n",
              "      <td>0.0</td>\n",
              "      <td>0.0</td>\n",
              "      <td>0.000000</td>\n",
              "      <td>0.0</td>\n",
              "      <td>0.0</td>\n",
              "      <td>0.0</td>\n",
              "      <td>0.0</td>\n",
              "      <td>0.0</td>\n",
              "      <td>0.0</td>\n",
              "      <td>0.0</td>\n",
              "      <td>0.0</td>\n",
              "      <td>0.0</td>\n",
              "      <td>0.000000</td>\n",
              "      <td>0.0</td>\n",
              "      <td>0.0</td>\n",
              "      <td>0.0</td>\n",
              "      <td>0.0</td>\n",
              "      <td>0.0</td>\n",
              "      <td>0.0</td>\n",
              "      <td>0.0</td>\n",
              "      <td>0.0</td>\n",
              "      <td>0.0</td>\n",
              "      <td>0.0</td>\n",
              "      <td>0.0</td>\n",
              "      <td>0.0</td>\n",
              "      <td>0.0</td>\n",
              "      <td>0.0</td>\n",
              "      <td>0.0</td>\n",
              "      <td>0.0</td>\n",
              "      <td>...</td>\n",
              "      <td>0.0</td>\n",
              "      <td>0.0</td>\n",
              "      <td>0.0</td>\n",
              "      <td>0.0</td>\n",
              "      <td>0.0</td>\n",
              "      <td>0.0</td>\n",
              "      <td>0.0</td>\n",
              "      <td>0.0</td>\n",
              "      <td>0.0</td>\n",
              "      <td>0.0</td>\n",
              "      <td>0.0</td>\n",
              "      <td>0.0</td>\n",
              "      <td>0.0</td>\n",
              "      <td>0.0</td>\n",
              "      <td>0.075315</td>\n",
              "      <td>0.0</td>\n",
              "      <td>0.155419</td>\n",
              "      <td>0.0</td>\n",
              "      <td>0.0</td>\n",
              "      <td>0.0</td>\n",
              "      <td>0.0</td>\n",
              "      <td>0.000000</td>\n",
              "      <td>0.0</td>\n",
              "      <td>0.000000</td>\n",
              "      <td>0.0</td>\n",
              "      <td>0.0</td>\n",
              "      <td>0.000000</td>\n",
              "      <td>0.0</td>\n",
              "      <td>0.127735</td>\n",
              "      <td>0.108112</td>\n",
              "      <td>0.0</td>\n",
              "      <td>0.0</td>\n",
              "      <td>0.0</td>\n",
              "      <td>0.0</td>\n",
              "      <td>0.0</td>\n",
              "      <td>0.0</td>\n",
              "      <td>0.0</td>\n",
              "      <td>0.0</td>\n",
              "      <td>0.0</td>\n",
              "      <td>0.0</td>\n",
              "    </tr>\n",
              "    <tr>\n",
              "      <th>1</th>\n",
              "      <td>0.0</td>\n",
              "      <td>0.000000</td>\n",
              "      <td>0.0</td>\n",
              "      <td>0.000000</td>\n",
              "      <td>0.0</td>\n",
              "      <td>0.0</td>\n",
              "      <td>0.0</td>\n",
              "      <td>0.0</td>\n",
              "      <td>0.000000</td>\n",
              "      <td>0.000000</td>\n",
              "      <td>0.0</td>\n",
              "      <td>0.0</td>\n",
              "      <td>0.0</td>\n",
              "      <td>0.068040</td>\n",
              "      <td>0.0</td>\n",
              "      <td>0.0</td>\n",
              "      <td>0.0</td>\n",
              "      <td>0.0</td>\n",
              "      <td>0.0</td>\n",
              "      <td>0.0</td>\n",
              "      <td>0.0</td>\n",
              "      <td>0.0</td>\n",
              "      <td>0.0</td>\n",
              "      <td>0.000000</td>\n",
              "      <td>0.0</td>\n",
              "      <td>0.0</td>\n",
              "      <td>0.0</td>\n",
              "      <td>0.0</td>\n",
              "      <td>0.0</td>\n",
              "      <td>0.0</td>\n",
              "      <td>0.0</td>\n",
              "      <td>0.0</td>\n",
              "      <td>0.0</td>\n",
              "      <td>0.0</td>\n",
              "      <td>0.0</td>\n",
              "      <td>0.0</td>\n",
              "      <td>0.0</td>\n",
              "      <td>0.0</td>\n",
              "      <td>0.0</td>\n",
              "      <td>0.0</td>\n",
              "      <td>...</td>\n",
              "      <td>0.0</td>\n",
              "      <td>0.0</td>\n",
              "      <td>0.0</td>\n",
              "      <td>0.0</td>\n",
              "      <td>0.0</td>\n",
              "      <td>0.0</td>\n",
              "      <td>0.0</td>\n",
              "      <td>0.0</td>\n",
              "      <td>0.0</td>\n",
              "      <td>0.0</td>\n",
              "      <td>0.0</td>\n",
              "      <td>0.0</td>\n",
              "      <td>0.0</td>\n",
              "      <td>0.0</td>\n",
              "      <td>0.000000</td>\n",
              "      <td>0.0</td>\n",
              "      <td>0.000000</td>\n",
              "      <td>0.0</td>\n",
              "      <td>0.0</td>\n",
              "      <td>0.0</td>\n",
              "      <td>0.0</td>\n",
              "      <td>0.152028</td>\n",
              "      <td>0.0</td>\n",
              "      <td>0.147225</td>\n",
              "      <td>0.0</td>\n",
              "      <td>0.0</td>\n",
              "      <td>0.175471</td>\n",
              "      <td>0.0</td>\n",
              "      <td>0.000000</td>\n",
              "      <td>0.000000</td>\n",
              "      <td>0.0</td>\n",
              "      <td>0.0</td>\n",
              "      <td>0.0</td>\n",
              "      <td>0.0</td>\n",
              "      <td>0.0</td>\n",
              "      <td>0.0</td>\n",
              "      <td>0.0</td>\n",
              "      <td>0.0</td>\n",
              "      <td>0.0</td>\n",
              "      <td>0.0</td>\n",
              "    </tr>\n",
              "    <tr>\n",
              "      <th>2</th>\n",
              "      <td>0.0</td>\n",
              "      <td>0.098207</td>\n",
              "      <td>0.0</td>\n",
              "      <td>0.106868</td>\n",
              "      <td>0.0</td>\n",
              "      <td>0.0</td>\n",
              "      <td>0.0</td>\n",
              "      <td>0.0</td>\n",
              "      <td>0.000000</td>\n",
              "      <td>0.000000</td>\n",
              "      <td>0.0</td>\n",
              "      <td>0.0</td>\n",
              "      <td>0.0</td>\n",
              "      <td>0.030907</td>\n",
              "      <td>0.0</td>\n",
              "      <td>0.0</td>\n",
              "      <td>0.0</td>\n",
              "      <td>0.0</td>\n",
              "      <td>0.0</td>\n",
              "      <td>0.0</td>\n",
              "      <td>0.0</td>\n",
              "      <td>0.0</td>\n",
              "      <td>0.0</td>\n",
              "      <td>0.000000</td>\n",
              "      <td>0.0</td>\n",
              "      <td>0.0</td>\n",
              "      <td>0.0</td>\n",
              "      <td>0.0</td>\n",
              "      <td>0.0</td>\n",
              "      <td>0.0</td>\n",
              "      <td>0.0</td>\n",
              "      <td>0.0</td>\n",
              "      <td>0.0</td>\n",
              "      <td>0.0</td>\n",
              "      <td>0.0</td>\n",
              "      <td>0.0</td>\n",
              "      <td>0.0</td>\n",
              "      <td>0.0</td>\n",
              "      <td>0.0</td>\n",
              "      <td>0.0</td>\n",
              "      <td>...</td>\n",
              "      <td>0.0</td>\n",
              "      <td>0.0</td>\n",
              "      <td>0.0</td>\n",
              "      <td>0.0</td>\n",
              "      <td>0.0</td>\n",
              "      <td>0.0</td>\n",
              "      <td>0.0</td>\n",
              "      <td>0.0</td>\n",
              "      <td>0.0</td>\n",
              "      <td>0.0</td>\n",
              "      <td>0.0</td>\n",
              "      <td>0.0</td>\n",
              "      <td>0.0</td>\n",
              "      <td>0.0</td>\n",
              "      <td>0.000000</td>\n",
              "      <td>0.0</td>\n",
              "      <td>0.000000</td>\n",
              "      <td>0.0</td>\n",
              "      <td>0.0</td>\n",
              "      <td>0.0</td>\n",
              "      <td>0.0</td>\n",
              "      <td>0.000000</td>\n",
              "      <td>0.0</td>\n",
              "      <td>0.000000</td>\n",
              "      <td>0.0</td>\n",
              "      <td>0.0</td>\n",
              "      <td>0.000000</td>\n",
              "      <td>0.0</td>\n",
              "      <td>0.000000</td>\n",
              "      <td>0.000000</td>\n",
              "      <td>0.0</td>\n",
              "      <td>0.0</td>\n",
              "      <td>0.0</td>\n",
              "      <td>0.0</td>\n",
              "      <td>0.0</td>\n",
              "      <td>0.0</td>\n",
              "      <td>0.0</td>\n",
              "      <td>0.0</td>\n",
              "      <td>0.0</td>\n",
              "      <td>0.0</td>\n",
              "    </tr>\n",
              "    <tr>\n",
              "      <th>3</th>\n",
              "      <td>0.0</td>\n",
              "      <td>0.000000</td>\n",
              "      <td>0.0</td>\n",
              "      <td>0.000000</td>\n",
              "      <td>0.0</td>\n",
              "      <td>0.0</td>\n",
              "      <td>0.0</td>\n",
              "      <td>0.0</td>\n",
              "      <td>0.000000</td>\n",
              "      <td>0.093996</td>\n",
              "      <td>0.0</td>\n",
              "      <td>0.0</td>\n",
              "      <td>0.0</td>\n",
              "      <td>0.067999</td>\n",
              "      <td>0.0</td>\n",
              "      <td>0.0</td>\n",
              "      <td>0.0</td>\n",
              "      <td>0.0</td>\n",
              "      <td>0.0</td>\n",
              "      <td>0.0</td>\n",
              "      <td>0.0</td>\n",
              "      <td>0.0</td>\n",
              "      <td>0.0</td>\n",
              "      <td>0.000000</td>\n",
              "      <td>0.0</td>\n",
              "      <td>0.0</td>\n",
              "      <td>0.0</td>\n",
              "      <td>0.0</td>\n",
              "      <td>0.0</td>\n",
              "      <td>0.0</td>\n",
              "      <td>0.0</td>\n",
              "      <td>0.0</td>\n",
              "      <td>0.0</td>\n",
              "      <td>0.0</td>\n",
              "      <td>0.0</td>\n",
              "      <td>0.0</td>\n",
              "      <td>0.0</td>\n",
              "      <td>0.0</td>\n",
              "      <td>0.0</td>\n",
              "      <td>0.0</td>\n",
              "      <td>...</td>\n",
              "      <td>0.0</td>\n",
              "      <td>0.0</td>\n",
              "      <td>0.0</td>\n",
              "      <td>0.0</td>\n",
              "      <td>0.0</td>\n",
              "      <td>0.0</td>\n",
              "      <td>0.0</td>\n",
              "      <td>0.0</td>\n",
              "      <td>0.0</td>\n",
              "      <td>0.0</td>\n",
              "      <td>0.0</td>\n",
              "      <td>0.0</td>\n",
              "      <td>0.0</td>\n",
              "      <td>0.0</td>\n",
              "      <td>0.066415</td>\n",
              "      <td>0.0</td>\n",
              "      <td>0.000000</td>\n",
              "      <td>0.0</td>\n",
              "      <td>0.0</td>\n",
              "      <td>0.0</td>\n",
              "      <td>0.0</td>\n",
              "      <td>0.000000</td>\n",
              "      <td>0.0</td>\n",
              "      <td>0.000000</td>\n",
              "      <td>0.0</td>\n",
              "      <td>0.0</td>\n",
              "      <td>0.000000</td>\n",
              "      <td>0.0</td>\n",
              "      <td>0.000000</td>\n",
              "      <td>0.000000</td>\n",
              "      <td>0.0</td>\n",
              "      <td>0.0</td>\n",
              "      <td>0.0</td>\n",
              "      <td>0.0</td>\n",
              "      <td>0.0</td>\n",
              "      <td>0.0</td>\n",
              "      <td>0.0</td>\n",
              "      <td>0.0</td>\n",
              "      <td>0.0</td>\n",
              "      <td>0.0</td>\n",
              "    </tr>\n",
              "    <tr>\n",
              "      <th>4</th>\n",
              "      <td>0.0</td>\n",
              "      <td>0.000000</td>\n",
              "      <td>0.0</td>\n",
              "      <td>0.000000</td>\n",
              "      <td>0.0</td>\n",
              "      <td>0.0</td>\n",
              "      <td>0.0</td>\n",
              "      <td>0.0</td>\n",
              "      <td>0.094557</td>\n",
              "      <td>0.000000</td>\n",
              "      <td>0.0</td>\n",
              "      <td>0.0</td>\n",
              "      <td>0.0</td>\n",
              "      <td>0.061045</td>\n",
              "      <td>0.0</td>\n",
              "      <td>0.0</td>\n",
              "      <td>0.0</td>\n",
              "      <td>0.0</td>\n",
              "      <td>0.0</td>\n",
              "      <td>0.0</td>\n",
              "      <td>0.0</td>\n",
              "      <td>0.0</td>\n",
              "      <td>0.0</td>\n",
              "      <td>0.083428</td>\n",
              "      <td>0.0</td>\n",
              "      <td>0.0</td>\n",
              "      <td>0.0</td>\n",
              "      <td>0.0</td>\n",
              "      <td>0.0</td>\n",
              "      <td>0.0</td>\n",
              "      <td>0.0</td>\n",
              "      <td>0.0</td>\n",
              "      <td>0.0</td>\n",
              "      <td>0.0</td>\n",
              "      <td>0.0</td>\n",
              "      <td>0.0</td>\n",
              "      <td>0.0</td>\n",
              "      <td>0.0</td>\n",
              "      <td>0.0</td>\n",
              "      <td>0.0</td>\n",
              "      <td>...</td>\n",
              "      <td>0.0</td>\n",
              "      <td>0.0</td>\n",
              "      <td>0.0</td>\n",
              "      <td>0.0</td>\n",
              "      <td>0.0</td>\n",
              "      <td>0.0</td>\n",
              "      <td>0.0</td>\n",
              "      <td>0.0</td>\n",
              "      <td>0.0</td>\n",
              "      <td>0.0</td>\n",
              "      <td>0.0</td>\n",
              "      <td>0.0</td>\n",
              "      <td>0.0</td>\n",
              "      <td>0.0</td>\n",
              "      <td>0.042304</td>\n",
              "      <td>0.0</td>\n",
              "      <td>0.000000</td>\n",
              "      <td>0.0</td>\n",
              "      <td>0.0</td>\n",
              "      <td>0.0</td>\n",
              "      <td>0.0</td>\n",
              "      <td>0.000000</td>\n",
              "      <td>0.0</td>\n",
              "      <td>0.000000</td>\n",
              "      <td>0.0</td>\n",
              "      <td>0.0</td>\n",
              "      <td>0.000000</td>\n",
              "      <td>0.0</td>\n",
              "      <td>0.057886</td>\n",
              "      <td>0.000000</td>\n",
              "      <td>0.0</td>\n",
              "      <td>0.0</td>\n",
              "      <td>0.0</td>\n",
              "      <td>0.0</td>\n",
              "      <td>0.0</td>\n",
              "      <td>0.0</td>\n",
              "      <td>0.0</td>\n",
              "      <td>0.0</td>\n",
              "      <td>0.0</td>\n",
              "      <td>0.0</td>\n",
              "    </tr>\n",
              "  </tbody>\n",
              "</table>\n",
              "<p>5 rows × 2209 columns</p>\n",
              "</div>"
            ],
            "text/plain": [
              "   abil       abl  abl help  abl make  ...  york  young   yr  zero\n",
              "0   0.0  0.000000       0.0  0.000000  ...   0.0    0.0  0.0   0.0\n",
              "1   0.0  0.000000       0.0  0.000000  ...   0.0    0.0  0.0   0.0\n",
              "2   0.0  0.098207       0.0  0.106868  ...   0.0    0.0  0.0   0.0\n",
              "3   0.0  0.000000       0.0  0.000000  ...   0.0    0.0  0.0   0.0\n",
              "4   0.0  0.000000       0.0  0.000000  ...   0.0    0.0  0.0   0.0\n",
              "\n",
              "[5 rows x 2209 columns]"
            ]
          },
          "metadata": {
            "tags": []
          },
          "execution_count": 185
        }
      ]
    },
    {
      "cell_type": "markdown",
      "metadata": {
        "id": "VSrBxsxV5C2J",
        "colab_type": "text"
      },
      "source": [
        "### Elbow method to select number of clusters\n",
        "\n",
        "This method looks at the percentage of variance explained as a function of the number of clusters: One should choose a number of clusters so that adding another cluster doesn't give much better modeling of the data. More precisely, if one plots the percentage of variance explained by the clusters against the number of clusters, the first clusters will add much information (explain a lot of variance), but at some point the marginal gain will drop, giving an angle in the graph. The number of clusters is chosen at this point, hence the \"elbow criterion\". This \"elbow\" cannot always be unambiguously identified. Percentage of variance explained is the ratio of the between-group variance to the total variance, also known as an F-test. A slight variation of this method plots the curvature of the within group variance."
      ]
    },
    {
      "cell_type": "markdown",
      "metadata": {
        "id": "m-fTxfCZ5ZbF",
        "colab_type": "text"
      },
      "source": [
        "### Basically, number of clusters = the x-axis value of the point that is the corner of the \"elbow\"(the plot looks often looks like an elbow)"
      ]
    },
    {
      "cell_type": "code",
      "metadata": {
        "id": "qmZmaYovDqTR",
        "colab_type": "code",
        "colab": {}
      },
      "source": [
        "k_clusters = 10"
      ],
      "execution_count": 0,
      "outputs": []
    },
    {
      "cell_type": "code",
      "metadata": {
        "id": "BYNGsQbSupC3",
        "colab_type": "code",
        "colab": {
          "base_uri": "https://localhost:8080/",
          "height": 299
        },
        "outputId": "788ffed0-a3d7-4da5-b16e-3e71f88b0948"
      },
      "source": [
        "from sklearn.cluster import KMeans\n",
        "\n",
        "score = []\n",
        "for i in range(1,k_clusters + 1):\n",
        "    kmeans = KMeans(n_clusters=i,init='k-means++',max_iter=300,n_init=5,random_state=0)\n",
        "    kmeans.fit(X_train_vc)\n",
        "    score.append(kmeans.inertia_)\n",
        "plt.plot(range(1,k_clusters + 1 ),score)\n",
        "plt.title('The Elbow Method')\n",
        "plt.xlabel('Number of clusters')\n",
        "plt.ylabel('Score')\n",
        "plt.savefig('elbow.png')\n",
        "plt.show()"
      ],
      "execution_count": 187,
      "outputs": [
        {
          "output_type": "display_data",
          "data": {
            "image/png": "[encoded data removed]",
            "text/plain": [
              "<Figure size 432x288 with 1 Axes>"
            ]
          },
          "metadata": {
            "tags": []
          }
        }
      ]
    },
    {
      "cell_type": "markdown",
      "metadata": {
        "id": "vz1zzdKeIuJY",
        "colab_type": "text"
      },
      "source": [
        "## Train the model to find 6 clusters\n",
        "\n",
        "We will use 6 cluster because we already know we have 6 categories, but normally you wont know this."
      ]
    },
    {
      "cell_type": "code",
      "metadata": {
        "id": "i4j5ApJuIuJZ",
        "colab_type": "code",
        "outputId": "7e285c46-a8d8-46ac-97f5-47d3ab623ebf",
        "colab": {
          "base_uri": "https://localhost:8080/",
          "height": 68
        }
      },
      "source": [
        "k_clusters = 7\n",
        "\n",
        "model = KMeans(n_clusters=k_clusters, init='k-means++', n_init=10, max_iter=600, tol=0.000001, random_state=0)\n",
        "model.fit(X_train_vc)"
      ],
      "execution_count": 188,
      "outputs": [
        {
          "output_type": "execute_result",
          "data": {
            "text/plain": [
              "KMeans(algorithm='auto', copy_x=True, init='k-means++', max_iter=600,\n",
              "       n_clusters=7, n_init=10, n_jobs=None, precompute_distances='auto',\n",
              "       random_state=0, tol=1e-06, verbose=0)"
            ]
          },
          "metadata": {
            "tags": []
          },
          "execution_count": 188
        }
      ]
    },
    {
      "cell_type": "markdown",
      "metadata": {
        "id": "sCj4_7I3IuJi",
        "colab_type": "text"
      },
      "source": [
        "## Do some predictions and display the results"
      ]
    },
    {
      "cell_type": "code",
      "metadata": {
        "id": "t1qyfF3DIuJj",
        "colab_type": "code",
        "colab": {}
      },
      "source": [
        "# First: for every document we get its corresponding cluster\n",
        "clusters = model.predict(X_train_vc)"
      ],
      "execution_count": 0,
      "outputs": []
    },
    {
      "cell_type": "code",
      "metadata": {
        "id": "wk_gRN5lIuJo",
        "colab_type": "code",
        "outputId": "11afe7b4-0310-4562-cbd7-7f641fd8d87c",
        "colab": {
          "base_uri": "https://localhost:8080/",
          "height": 669
        }
      },
      "source": [
        "dataset[\"ClusterName\"] = clusters\n",
        "# Convert the label (Product) to numeric using the pd factorize function \n",
        "dataset['category_id'] = dataset['Product'].factorize()[0]\n",
        "dataset.head(20)"
      ],
      "execution_count": 190,
      "outputs": [
        {
          "output_type": "execute_result",
          "data": {
            "text/html": [
              "<div>\n",
              "<style scoped>\n",
              "    .dataframe tbody tr th:only-of-type {\n",
              "        vertical-align: middle;\n",
              "    }\n",
              "\n",
              "    .dataframe tbody tr th {\n",
              "        vertical-align: top;\n",
              "    }\n",
              "\n",
              "    .dataframe thead th {\n",
              "        text-align: right;\n",
              "    }\n",
              "</style>\n",
              "<table border=\"1\" class=\"dataframe\">\n",
              "  <thead>\n",
              "    <tr style=\"text-align: right;\">\n",
              "      <th></th>\n",
              "      <th>Product</th>\n",
              "      <th>ConsumerComplaint</th>\n",
              "      <th>ClusterName</th>\n",
              "      <th>category_id</th>\n",
              "    </tr>\n",
              "  </thead>\n",
              "  <tbody>\n",
              "    <tr>\n",
              "      <th>8971</th>\n",
              "      <td>Student loan</td>\n",
              "      <td>loan navient stafford privat stafford loan wen...</td>\n",
              "      <td>0</td>\n",
              "      <td>0</td>\n",
              "    </tr>\n",
              "    <tr>\n",
              "      <th>1858</th>\n",
              "      <td>Credit reporting</td>\n",
              "      <td>disput inform credit report credit bureau also...</td>\n",
              "      <td>3</td>\n",
              "      <td>1</td>\n",
              "    </tr>\n",
              "    <tr>\n",
              "      <th>8511</th>\n",
              "      <td>Mortgage</td>\n",
              "      <td>receiv letter ocwen state home equiti line mat...</td>\n",
              "      <td>6</td>\n",
              "      <td>2</td>\n",
              "    </tr>\n",
              "    <tr>\n",
              "      <th>9331</th>\n",
              "      <td>Student loan</td>\n",
              "      <td>alway make monthli payment onlin navientcom tr...</td>\n",
              "      <td>0</td>\n",
              "      <td>0</td>\n",
              "    </tr>\n",
              "    <tr>\n",
              "      <th>763</th>\n",
              "      <td>Credit reporting</td>\n",
              "      <td>hello victim ident theft multipl occas sinc re...</td>\n",
              "      <td>3</td>\n",
              "      <td>1</td>\n",
              "    </tr>\n",
              "    <tr>\n",
              "      <th>9945</th>\n",
              "      <td>Debt collection</td>\n",
              "      <td>yr est dyck oneal inc debt collector tea addre...</td>\n",
              "      <td>5</td>\n",
              "      <td>3</td>\n",
              "    </tr>\n",
              "    <tr>\n",
              "      <th>2085</th>\n",
              "      <td>Credit reporting</td>\n",
              "      <td>divorc grant innoc spous statu ir separ ehusba...</td>\n",
              "      <td>3</td>\n",
              "      <td>1</td>\n",
              "    </tr>\n",
              "    <tr>\n",
              "      <th>7699</th>\n",
              "      <td>Debt collection</td>\n",
              "      <td>sent multipl letter agenc account advis identi...</td>\n",
              "      <td>3</td>\n",
              "      <td>3</td>\n",
              "    </tr>\n",
              "    <tr>\n",
              "      <th>4272</th>\n",
              "      <td>Debt collection</td>\n",
              "      <td>went anoth cell carrier receiv invoic pay amou...</td>\n",
              "      <td>5</td>\n",
              "      <td>3</td>\n",
              "    </tr>\n",
              "    <tr>\n",
              "      <th>7647</th>\n",
              "      <td>Credit reporting</td>\n",
              "      <td>equifa report acct dont live</td>\n",
              "      <td>4</td>\n",
              "      <td>1</td>\n",
              "    </tr>\n",
              "    <tr>\n",
              "      <th>1017</th>\n",
              "      <td>Debt collection</td>\n",
              "      <td>pursuant usc sec fdcpa sent certifi collect va...</td>\n",
              "      <td>3</td>\n",
              "      <td>3</td>\n",
              "    </tr>\n",
              "    <tr>\n",
              "      <th>4298</th>\n",
              "      <td>Mortgage</td>\n",
              "      <td>hello name well educ financ homeownership go c...</td>\n",
              "      <td>6</td>\n",
              "      <td>2</td>\n",
              "    </tr>\n",
              "    <tr>\n",
              "      <th>2761</th>\n",
              "      <td>Mortgage</td>\n",
              "      <td>disput bank america respons inquiri via consum...</td>\n",
              "      <td>6</td>\n",
              "      <td>2</td>\n",
              "    </tr>\n",
              "    <tr>\n",
              "      <th>9319</th>\n",
              "      <td>Debt collection</td>\n",
              "      <td>hunter warfield call</td>\n",
              "      <td>5</td>\n",
              "      <td>3</td>\n",
              "    </tr>\n",
              "    <tr>\n",
              "      <th>8560</th>\n",
              "      <td>Debt collection</td>\n",
              "      <td>receiv mani letter collect mail sent letter re...</td>\n",
              "      <td>5</td>\n",
              "      <td>3</td>\n",
              "    </tr>\n",
              "    <tr>\n",
              "      <th>9823</th>\n",
              "      <td>Credit reporting</td>\n",
              "      <td>name ad account never marri alway daughter las...</td>\n",
              "      <td>4</td>\n",
              "      <td>1</td>\n",
              "    </tr>\n",
              "    <tr>\n",
              "      <th>5144</th>\n",
              "      <td>Credit card</td>\n",
              "      <td>made wife credit card payment time still asses...</td>\n",
              "      <td>1</td>\n",
              "      <td>4</td>\n",
              "    </tr>\n",
              "    <tr>\n",
              "      <th>5522</th>\n",
              "      <td>Mortgage</td>\n",
              "      <td>phh mortgag longer accept mortgag payment fail...</td>\n",
              "      <td>6</td>\n",
              "      <td>2</td>\n",
              "    </tr>\n",
              "    <tr>\n",
              "      <th>5795</th>\n",
              "      <td>Credit reporting</td>\n",
              "      <td>account report transunion current fee citat pr...</td>\n",
              "      <td>4</td>\n",
              "      <td>1</td>\n",
              "    </tr>\n",
              "    <tr>\n",
              "      <th>3834</th>\n",
              "      <td>Debt collection</td>\n",
              "      <td>compani report inform credit report enter paym...</td>\n",
              "      <td>4</td>\n",
              "      <td>3</td>\n",
              "    </tr>\n",
              "  </tbody>\n",
              "</table>\n",
              "</div>"
            ],
            "text/plain": [
              "               Product  ... category_id\n",
              "8971      Student loan  ...           0\n",
              "1858  Credit reporting  ...           1\n",
              "8511          Mortgage  ...           2\n",
              "9331      Student loan  ...           0\n",
              "763   Credit reporting  ...           1\n",
              "9945   Debt collection  ...           3\n",
              "2085  Credit reporting  ...           1\n",
              "7699   Debt collection  ...           3\n",
              "4272   Debt collection  ...           3\n",
              "7647  Credit reporting  ...           1\n",
              "1017   Debt collection  ...           3\n",
              "4298          Mortgage  ...           2\n",
              "2761          Mortgage  ...           2\n",
              "9319   Debt collection  ...           3\n",
              "8560   Debt collection  ...           3\n",
              "9823  Credit reporting  ...           1\n",
              "5144       Credit card  ...           4\n",
              "5522          Mortgage  ...           2\n",
              "5795  Credit reporting  ...           1\n",
              "3834   Debt collection  ...           3\n",
              "\n",
              "[20 rows x 4 columns]"
            ]
          },
          "metadata": {
            "tags": []
          },
          "execution_count": 190
        }
      ]
    },
    {
      "cell_type": "code",
      "metadata": {
        "id": "tSpd0ScQNuyu",
        "colab_type": "code",
        "colab": {
          "base_uri": "https://localhost:8080/",
          "height": 374
        },
        "outputId": "0bf7abed-1fa5-478f-a0a5-3378b89aa93d"
      },
      "source": [
        "from sklearn.decomposition import PCA\n",
        "sklearn_pca = PCA(n_components = 2)\n",
        "Y_sklearn = sklearn_pca.fit_transform(X_train_vc.toarray())\n",
        "kmeans = KMeans(n_clusters=k_clusters, max_iter=600, algorithm = 'auto')\n",
        "fitted = kmeans.fit(Y_sklearn)\n",
        "prediction = kmeans.predict(Y_sklearn)\n",
        "\n",
        "plt.figure(figsize=(12, 6))\n",
        "plt.scatter(Y_sklearn[:, 0], Y_sklearn[:, 1], c=prediction, s=40, cmap='viridis', linewidths=5)\n",
        "\n",
        "centers = fitted.cluster_centers_\n",
        "plt.scatter(centers[:, 0], centers[:, 1],c='black', s=200, alpha=0.6);"
      ],
      "execution_count": 195,
      "outputs": [
        {
          "output_type": "display_data",
          "data": {
            "image/png": "[encoded data removed]",
            "text/plain": [
              "<Figure size 864x432 with 1 Axes>"
            ]
          },
          "metadata": {
            "tags": []
          }
        }
      ]
    },
    {
      "cell_type": "markdown",
      "metadata": {
        "id": "ywedXyt6IuJd",
        "colab_type": "text"
      },
      "source": [
        "## Top terms per cluster"
      ]
    },
    {
      "cell_type": "code",
      "metadata": {
        "id": "0bHnezLLxTxL",
        "colab_type": "code",
        "colab": {
          "base_uri": "https://localhost:8080/",
          "height": 1000
        },
        "outputId": "e56ae72e-2ce4-41f9-a9a1-85c539bc67ff"
      },
      "source": [
        "def get_top_features_cluster(tf_idf_array, prediction, n_feats):\n",
        "    labels = np.unique(prediction)\n",
        "    dfs = []\n",
        "    for label in labels:\n",
        "        id_temp = np.where(prediction==label) # indices for each cluster\n",
        "        x_means = np.mean(tf_idf_array[id_temp], axis = 0) # returns average score across cluster\n",
        "        sorted_means = np.argsort(x_means)[::-1][:n_feats] # indices with top 20 scores\n",
        "        features = vectorizer.get_feature_names()\n",
        "        best_features = [(features[i], x_means[i]) for i in sorted_means]\n",
        "        df = pd.DataFrame(best_features, columns = ['features', 'score'])\n",
        "        dfs.append(df)\n",
        "    return dfs\n",
        "\n",
        "\n",
        "def plotWords(dfs, n_feats):\n",
        "    for i in range(0, len(dfs)):\n",
        "        plt.figure(figsize=(8, 2))\n",
        "        plt.title((\"Most Common Words in Cluster {}\".format(i)), fontsize=10, fontweight='bold')\n",
        "        sns.barplot(x = 'score' , y = 'features', orient = 'h' , data = dfs[i][:n_feats])\n",
        "\n",
        "dfs = get_top_features_cluster(X_train_vc.toarray(), prediction, 4)\n",
        "plotWords(dfs, 13)\n"
      ],
      "execution_count": 192,
      "outputs": [
        {
          "output_type": "display_data",
          "data": {
            "image/png": "[encoded data removed]",
            "text/plain": [
              "<Figure size 576x144 with 1 Axes>"
            ]
          },
          "metadata": {
            "tags": []
          }
        },
        {
          "output_type": "display_data",
          "data": {
            "image/png": "[encoded data removed]",
            "text/plain": [
              "<Figure size 576x144 with 1 Axes>"
            ]
          },
          "metadata": {
            "tags": []
          }
        },
        {
          "output_type": "display_data",
          "data": {
            "image/png": "[encoded data removed]",
            "text/plain": [
              "<Figure size 576x144 with 1 Axes>"
            ]
          },
          "metadata": {
            "tags": []
          }
        },
        {
          "output_type": "display_data",
          "data": {
            "image/png": "[encoded data removed]",
            "text/plain": [
              "<Figure size 576x144 with 1 Axes>"
            ]
          },
          "metadata": {
            "tags": []
          }
        },
        {
          "output_type": "display_data",
          "data": {
            "image/png": "[encoded data removed]",
            "text/plain": [
              "<Figure size 576x144 with 1 Axes>"
            ]
          },
          "metadata": {
            "tags": []
          }
        },
        {
          "output_type": "display_data",
          "data": {
            "image/png": "[encoded data removed]",
            "text/plain": [
              "<Figure size 576x144 with 1 Axes>"
            ]
          },
          "metadata": {
            "tags": []
          }
        },
        {
          "output_type": "display_data",
          "data": {
            "image/png": "[encoded data removed]",
            "text/plain": [
              "<Figure size 576x144 with 1 Axes>"
            ]
          },
          "metadata": {
            "tags": []
          }
        }
      ]
    },
    {
      "cell_type": "code",
      "metadata": {
        "id": "F807l56-IuKT",
        "colab_type": "code",
        "colab": {
          "base_uri": "https://localhost:8080/",
          "height": 136
        },
        "outputId": "db41b8ab-6ad3-4b33-e936-bbc87ad149c0"
      },
      "source": [
        "order_centroids = model.cluster_centers_.argsort()[:, ::-1]\n",
        "\n",
        "terms = vectorizer.get_feature_names()\n",
        "for i in range(k_clusters):\n",
        "    top_ten_words = [terms[ind] for ind in order_centroids[i, :k_clusters]]\n",
        "    print(\"Cluster {}: {}\".format(i, ' '.join(top_ten_words)))"
      ],
      "execution_count": 193,
      "outputs": [
        {
          "output_type": "stream",
          "text": [
            "Cluster 0: payment loan pay month make late year\n",
            "Cluster 1: card credit card credit charg use account balanc\n",
            "Cluster 2: account bank check money deposit check account open\n",
            "Cluster 3: report disput account credit inform equifa verifi\n",
            "Cluster 4: report credit credit report remov inquiri account inform\n",
            "Cluster 5: debt collect compani phone receiv number ask\n",
            "Cluster 6: mortgag loan home modif payment foreclosur properti\n"
          ],
          "name": "stdout"
        }
      ]
    },
    {
      "cell_type": "markdown",
      "metadata": {
        "id": "f2ATE_rjM3Ei",
        "colab_type": "text"
      },
      "source": [
        "### Make some predications"
      ]
    },
    {
      "cell_type": "code",
      "metadata": {
        "id": "X08CDASlIuKE",
        "colab_type": "code",
        "outputId": "3feb687e-0719-4062-d133-578e4cbfa88b",
        "colab": {
          "base_uri": "https://localhost:8080/",
          "height": 34
        }
      },
      "source": [
        "cleaned_data = [\"I would like to change my mortgage debit order\",\n",
        "                \"Please send me my latest credit card statement\",\n",
        "                \"I would like to apply for a student loan\"]\n",
        "cleaned_data = pd.DataFrame(cleaned_data, columns=[\"ConsumerComplaints\"])\n",
        "cleaned_data = cleaned_data[\"ConsumerComplaints\"].apply(clean_text)\n",
        "predicted = model.predict(vectorizer.transform(cleaned_data))\n",
        "predicted"
      ],
      "execution_count": 194,
      "outputs": [
        {
          "output_type": "execute_result",
          "data": {
            "text/plain": [
              "array([6, 1, 0], dtype=int32)"
            ]
          },
          "metadata": {
            "tags": []
          },
          "execution_count": 194
        }
      ]
    },
    {
      "cell_type": "code",
      "metadata": {
        "id": "aKLYY-hoMKz5",
        "colab_type": "code",
        "colab": {}
      },
      "source": [
        ""
      ],
      "execution_count": 0,
      "outputs": []
    }
  ]
}